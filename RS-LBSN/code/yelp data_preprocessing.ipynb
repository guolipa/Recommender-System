{
 "cells": [
  {
   "cell_type": "code",
   "execution_count": 2,
   "metadata": {
    "collapsed": true
   },
   "outputs": [],
   "source": [
    "import numpy as np\n",
    "import pandas as pd"
   ]
  },
  {
   "cell_type": "code",
   "execution_count": 3,
   "metadata": {
    "collapsed": true
   },
   "outputs": [],
   "source": [
    "#文件路径\n",
    "file_yelp_business = 'E:\\data\\yelp_csv\\yelp_business.csv'\n",
    "file_yelp_user = 'E:\\data\\yelp_csv\\yelp_user.csv'\n",
    "file_yelp_review = 'E:\\data\\yelp_csv\\yelp_review.csv'\n",
    "file_yelp_tip = 'E:\\data\\yelp_csv\\yelp_tip.csv'"
   ]
  },
  {
   "cell_type": "markdown",
   "metadata": {},
   "source": [
    "## business数据处理"
   ]
  },
  {
   "cell_type": "code",
   "execution_count": 5,
   "metadata": {},
   "outputs": [
    {
     "name": "stderr",
     "output_type": "stream",
     "text": [
      "D:\\software\\Python\\Anaconda_Install\\lib\\site-packages\\IPython\\core\\interactiveshell.py:2698: DtypeWarning: Columns (10) have mixed types. Specify dtype option on import or set low_memory=False.\n",
      "  interactivity=interactivity, compiler=compiler, result=result)\n"
     ]
    }
   ],
   "source": [
    "#business数据处理\n",
    "data_business = pd.read_csv(file_yelp_business,encoding = 'latin-1',index_col = 'business_id')"
   ]
  },
  {
   "cell_type": "code",
   "execution_count": 6,
   "metadata": {},
   "outputs": [
    {
     "data": {
      "text/plain": [
       "Index(['name', 'neighborhood', 'address', 'city', 'state', 'postal_code',\n",
       "       'latitude', 'longitude', 'stars', 'review_count', 'is_open',\n",
       "       'categories'],\n",
       "      dtype='object')"
      ]
     },
     "execution_count": 6,
     "metadata": {},
     "output_type": "execute_result"
    }
   ],
   "source": [
    "data_business.columns"
   ]
  },
  {
   "cell_type": "code",
   "execution_count": 7,
   "metadata": {},
   "outputs": [
    {
     "data": {
      "text/plain": [
       "Index(['FYWN1wneV18bWNgQjJ2GNg', 'He-G7vWjzVUysIKrfNbPUQ',\n",
       "       'KQPW8lFf1y5BT2MxiSZ3QA', '8DShNS-LuFqpEWIp0HxijA',\n",
       "       'PfOCPjBrlQAnz__NXj9h_w', 'o9eMRCWt5PkpLDE0gOPtcQ',\n",
       "       'kCoE3jvEtg6UVz5SOD3GVw', 'OD2hnuuTJI9uotcKycxg1A',\n",
       "       'EsMcGiZaQuG1OOvL9iUFug', 'TGWhGNusxyMaA4kQVBNeew',\n",
       "       ...\n",
       "       'fp97iuseEoP7SGv74lSnhQ', 'UdEmYOnk2iJDY9lpEPAlJQ',\n",
       "       'N-ujj4Xsq7Qg9A1fDGkUmA', 'fBUoQ3WCyQX9sMWteZfI3w',\n",
       "       'kLFm_kehXNZkUc1oa2-Eaw', 'ALV5R8NkZ1KGOZeuZl3u0A',\n",
       "       'gRGalHVu6BcaUDIAGVW_xQ', 'XXvZBIHoJBU5d6-a-oyMWQ',\n",
       "       'lNpPGgM96nPIYM1shxciHg', 'viKaP26BcHU6cLx8sf4gKg'],\n",
       "      dtype='object', name='business_id', length=174566)"
      ]
     },
     "execution_count": 7,
     "metadata": {},
     "output_type": "execute_result"
    }
   ],
   "source": [
    "data_business.index"
   ]
  },
  {
   "cell_type": "code",
   "execution_count": 8,
   "metadata": {
    "collapsed": true
   },
   "outputs": [],
   "source": [
    "col_index = ['city', 'state','latitude', 'longitude', 'stars', 'review_count','categories']"
   ]
  },
  {
   "cell_type": "code",
   "execution_count": 9,
   "metadata": {
    "scrolled": true
   },
   "outputs": [
    {
     "data": {
      "text/html": [
       "<div>\n",
       "<style>\n",
       "    .dataframe thead tr:only-child th {\n",
       "        text-align: right;\n",
       "    }\n",
       "\n",
       "    .dataframe thead th {\n",
       "        text-align: left;\n",
       "    }\n",
       "\n",
       "    .dataframe tbody tr th {\n",
       "        vertical-align: top;\n",
       "    }\n",
       "</style>\n",
       "<table border=\"1\" class=\"dataframe\">\n",
       "  <thead>\n",
       "    <tr style=\"text-align: right;\">\n",
       "      <th></th>\n",
       "      <th>city</th>\n",
       "      <th>state</th>\n",
       "      <th>latitude</th>\n",
       "      <th>longitude</th>\n",
       "      <th>stars</th>\n",
       "      <th>review_count</th>\n",
       "      <th>categories</th>\n",
       "    </tr>\n",
       "    <tr>\n",
       "      <th>business_id</th>\n",
       "      <th></th>\n",
       "      <th></th>\n",
       "      <th></th>\n",
       "      <th></th>\n",
       "      <th></th>\n",
       "      <th></th>\n",
       "      <th></th>\n",
       "    </tr>\n",
       "  </thead>\n",
       "  <tbody>\n",
       "    <tr>\n",
       "      <th>FYWN1wneV18bWNgQjJ2GNg</th>\n",
       "      <td>Ahwatukee</td>\n",
       "      <td>AZ</td>\n",
       "      <td>33.330690</td>\n",
       "      <td>-111.978599</td>\n",
       "      <td>4.0</td>\n",
       "      <td>22</td>\n",
       "      <td>Dentists;General Dentistry;Health &amp; Medical;Or...</td>\n",
       "    </tr>\n",
       "    <tr>\n",
       "      <th>He-G7vWjzVUysIKrfNbPUQ</th>\n",
       "      <td>McMurray</td>\n",
       "      <td>PA</td>\n",
       "      <td>40.291685</td>\n",
       "      <td>-80.104900</td>\n",
       "      <td>3.0</td>\n",
       "      <td>11</td>\n",
       "      <td>Hair Stylists;Hair Salons;Men's Hair Salons;Bl...</td>\n",
       "    </tr>\n",
       "    <tr>\n",
       "      <th>KQPW8lFf1y5BT2MxiSZ3QA</th>\n",
       "      <td>Phoenix</td>\n",
       "      <td>AZ</td>\n",
       "      <td>33.524903</td>\n",
       "      <td>-112.115310</td>\n",
       "      <td>1.5</td>\n",
       "      <td>18</td>\n",
       "      <td>Departments of Motor Vehicles;Public Services ...</td>\n",
       "    </tr>\n",
       "    <tr>\n",
       "      <th>8DShNS-LuFqpEWIp0HxijA</th>\n",
       "      <td>Tempe</td>\n",
       "      <td>AZ</td>\n",
       "      <td>33.383147</td>\n",
       "      <td>-111.964725</td>\n",
       "      <td>3.0</td>\n",
       "      <td>9</td>\n",
       "      <td>Sporting Goods;Shopping</td>\n",
       "    </tr>\n",
       "    <tr>\n",
       "      <th>PfOCPjBrlQAnz__NXj9h_w</th>\n",
       "      <td>Cuyahoga Falls</td>\n",
       "      <td>OH</td>\n",
       "      <td>41.119535</td>\n",
       "      <td>-81.475690</td>\n",
       "      <td>3.5</td>\n",
       "      <td>116</td>\n",
       "      <td>American (New);Nightlife;Bars;Sandwiches;Ameri...</td>\n",
       "    </tr>\n",
       "    <tr>\n",
       "      <th>...</th>\n",
       "      <td>...</td>\n",
       "      <td>...</td>\n",
       "      <td>...</td>\n",
       "      <td>...</td>\n",
       "      <td>...</td>\n",
       "      <td>...</td>\n",
       "      <td>...</td>\n",
       "    </tr>\n",
       "    <tr>\n",
       "      <th>ALV5R8NkZ1KGOZeuZl3u0A</th>\n",
       "      <td>Whitby</td>\n",
       "      <td>ON</td>\n",
       "      <td>43.873460</td>\n",
       "      <td>-78.968033</td>\n",
       "      <td>4.0</td>\n",
       "      <td>4</td>\n",
       "      <td>Car Dealers;Automotive</td>\n",
       "    </tr>\n",
       "    <tr>\n",
       "      <th>gRGalHVu6BcaUDIAGVW_xQ</th>\n",
       "      <td>Richfield</td>\n",
       "      <td>OH</td>\n",
       "      <td>41.243385</td>\n",
       "      <td>-81.636212</td>\n",
       "      <td>5.0</td>\n",
       "      <td>3</td>\n",
       "      <td>Body Shops;Automotive</td>\n",
       "    </tr>\n",
       "    <tr>\n",
       "      <th>XXvZBIHoJBU5d6-a-oyMWQ</th>\n",
       "      <td>Tempe</td>\n",
       "      <td>AZ</td>\n",
       "      <td>33.407914</td>\n",
       "      <td>-111.965098</td>\n",
       "      <td>1.5</td>\n",
       "      <td>19</td>\n",
       "      <td>Home Services;Property Management;Real Estate</td>\n",
       "    </tr>\n",
       "    <tr>\n",
       "      <th>lNpPGgM96nPIYM1shxciHg</th>\n",
       "      <td>Pittsburgh</td>\n",
       "      <td>PA</td>\n",
       "      <td>40.517724</td>\n",
       "      <td>-80.091466</td>\n",
       "      <td>5.0</td>\n",
       "      <td>14</td>\n",
       "      <td>Spray Tanning;Tanning;Beauty &amp; Spas</td>\n",
       "    </tr>\n",
       "    <tr>\n",
       "      <th>viKaP26BcHU6cLx8sf4gKg</th>\n",
       "      <td>Phoenix</td>\n",
       "      <td>AZ</td>\n",
       "      <td>33.479861</td>\n",
       "      <td>-112.044689</td>\n",
       "      <td>5.0</td>\n",
       "      <td>4</td>\n",
       "      <td>Drugstores;Shopping;Health &amp; Medical</td>\n",
       "    </tr>\n",
       "  </tbody>\n",
       "</table>\n",
       "<p>174566 rows × 7 columns</p>\n",
       "</div>"
      ],
      "text/plain": [
       "                                  city state   latitude   longitude  stars  \\\n",
       "business_id                                                                  \n",
       "FYWN1wneV18bWNgQjJ2GNg       Ahwatukee    AZ  33.330690 -111.978599    4.0   \n",
       "He-G7vWjzVUysIKrfNbPUQ        McMurray    PA  40.291685  -80.104900    3.0   \n",
       "KQPW8lFf1y5BT2MxiSZ3QA         Phoenix    AZ  33.524903 -112.115310    1.5   \n",
       "8DShNS-LuFqpEWIp0HxijA           Tempe    AZ  33.383147 -111.964725    3.0   \n",
       "PfOCPjBrlQAnz__NXj9h_w  Cuyahoga Falls    OH  41.119535  -81.475690    3.5   \n",
       "...                                ...   ...        ...         ...    ...   \n",
       "ALV5R8NkZ1KGOZeuZl3u0A          Whitby    ON  43.873460  -78.968033    4.0   \n",
       "gRGalHVu6BcaUDIAGVW_xQ       Richfield    OH  41.243385  -81.636212    5.0   \n",
       "XXvZBIHoJBU5d6-a-oyMWQ           Tempe    AZ  33.407914 -111.965098    1.5   \n",
       "lNpPGgM96nPIYM1shxciHg      Pittsburgh    PA  40.517724  -80.091466    5.0   \n",
       "viKaP26BcHU6cLx8sf4gKg         Phoenix    AZ  33.479861 -112.044689    5.0   \n",
       "\n",
       "                       review_count  \\\n",
       "business_id                           \n",
       "FYWN1wneV18bWNgQjJ2GNg           22   \n",
       "He-G7vWjzVUysIKrfNbPUQ           11   \n",
       "KQPW8lFf1y5BT2MxiSZ3QA           18   \n",
       "8DShNS-LuFqpEWIp0HxijA            9   \n",
       "PfOCPjBrlQAnz__NXj9h_w          116   \n",
       "...                             ...   \n",
       "ALV5R8NkZ1KGOZeuZl3u0A            4   \n",
       "gRGalHVu6BcaUDIAGVW_xQ            3   \n",
       "XXvZBIHoJBU5d6-a-oyMWQ           19   \n",
       "lNpPGgM96nPIYM1shxciHg           14   \n",
       "viKaP26BcHU6cLx8sf4gKg            4   \n",
       "\n",
       "                                                               categories  \n",
       "business_id                                                                \n",
       "FYWN1wneV18bWNgQjJ2GNg  Dentists;General Dentistry;Health & Medical;Or...  \n",
       "He-G7vWjzVUysIKrfNbPUQ  Hair Stylists;Hair Salons;Men's Hair Salons;Bl...  \n",
       "KQPW8lFf1y5BT2MxiSZ3QA  Departments of Motor Vehicles;Public Services ...  \n",
       "8DShNS-LuFqpEWIp0HxijA                            Sporting Goods;Shopping  \n",
       "PfOCPjBrlQAnz__NXj9h_w  American (New);Nightlife;Bars;Sandwiches;Ameri...  \n",
       "...                                                                   ...  \n",
       "ALV5R8NkZ1KGOZeuZl3u0A                             Car Dealers;Automotive  \n",
       "gRGalHVu6BcaUDIAGVW_xQ                              Body Shops;Automotive  \n",
       "XXvZBIHoJBU5d6-a-oyMWQ      Home Services;Property Management;Real Estate  \n",
       "lNpPGgM96nPIYM1shxciHg                Spray Tanning;Tanning;Beauty & Spas  \n",
       "viKaP26BcHU6cLx8sf4gKg               Drugstores;Shopping;Health & Medical  \n",
       "\n",
       "[174566 rows x 7 columns]"
      ]
     },
     "execution_count": 9,
     "metadata": {},
     "output_type": "execute_result"
    }
   ],
   "source": [
    "business = data_business[col_index]\n",
    "business"
   ]
  },
  {
   "cell_type": "markdown",
   "metadata": {},
   "source": [
    "## user数据处理"
   ]
  },
  {
   "cell_type": "code",
   "execution_count": 10,
   "metadata": {
    "collapsed": true
   },
   "outputs": [],
   "source": [
    "#user数据处理\n",
    "data_user = pd.read_csv(file_yelp_user,encoding = 'latin-1',index_col = 'user_id')"
   ]
  },
  {
   "cell_type": "code",
   "execution_count": 11,
   "metadata": {},
   "outputs": [
    {
     "data": {
      "text/plain": [
       "Index(['name', 'review_count', 'yelping_since', 'friends', 'useful', 'funny',\n",
       "       'cool', 'fans', 'elite', 'average_stars', 'compliment_hot',\n",
       "       'compliment_more', 'compliment_profile', 'compliment_cute',\n",
       "       'compliment_list', 'compliment_note', 'compliment_plain',\n",
       "       'compliment_cool', 'compliment_funny', 'compliment_writer',\n",
       "       'compliment_photos'],\n",
       "      dtype='object')"
      ]
     },
     "execution_count": 11,
     "metadata": {},
     "output_type": "execute_result"
    }
   ],
   "source": [
    "data_user.columns"
   ]
  },
  {
   "cell_type": "code",
   "execution_count": 12,
   "metadata": {},
   "outputs": [
    {
     "data": {
      "text/plain": [
       "Index(['JJ-aSuM4pCFPdkfoZ34q0Q', 'uUzsFQn_6cXDh6rPNGbIFA',\n",
       "       'mBneaEEH5EMyxaVyqS-72A', 'W5mJGs-dcDWRGEhAzUYtoA',\n",
       "       '4E8--zUZO1Rr1IBK4_83fg', 'Ob-2oGBQ7rwwYwUvhmnf7g',\n",
       "       'JaTVvKsBl0bHHJEpESn4pQ', 'Ykj0DVsz0c6rX9ghjd0hDg',\n",
       "       'kmyEPfKnHQJdTceCdoyMQg', 'H54pA7YHfjl8IjhHAfdXJA',\n",
       "       ...\n",
       "       'D5SZz60_r-MN-8fJGj3axA', 'AOZ5zYQXNQy8nTUEMdrXWw',\n",
       "       '6acB6P0ESB_b34XdEuFx_A', 'hLrUuldLvlQufygg4o1Izg',\n",
       "       'zOwCkBXWbixHQzgOanL7og', 'LODBIwiAcKxRi7Wz-sFsKw',\n",
       "       'JpY2ozlb30z_AZCq2YX34g', 'AU9aZSA1rAjNE5cFcZTVMA',\n",
       "       's1BZ7-rpqb3xRKcxvArXsQ', 'q-1Tz4SvaTpGEMhI_xwm0Q'],\n",
       "      dtype='object', name='user_id', length=1326100)"
      ]
     },
     "execution_count": 12,
     "metadata": {},
     "output_type": "execute_result"
    }
   ],
   "source": [
    "data_user.index"
   ]
  },
  {
   "cell_type": "code",
   "execution_count": 13,
   "metadata": {
    "collapsed": true
   },
   "outputs": [],
   "source": [
    "col_index_user = ['review_count', 'yelping_since', 'friends','average_stars']"
   ]
  },
  {
   "cell_type": "code",
   "execution_count": 14,
   "metadata": {},
   "outputs": [
    {
     "data": {
      "text/html": [
       "<div>\n",
       "<style>\n",
       "    .dataframe thead tr:only-child th {\n",
       "        text-align: right;\n",
       "    }\n",
       "\n",
       "    .dataframe thead th {\n",
       "        text-align: left;\n",
       "    }\n",
       "\n",
       "    .dataframe tbody tr th {\n",
       "        vertical-align: top;\n",
       "    }\n",
       "</style>\n",
       "<table border=\"1\" class=\"dataframe\">\n",
       "  <thead>\n",
       "    <tr style=\"text-align: right;\">\n",
       "      <th></th>\n",
       "      <th>review_count</th>\n",
       "      <th>yelping_since</th>\n",
       "      <th>friends</th>\n",
       "      <th>average_stars</th>\n",
       "    </tr>\n",
       "    <tr>\n",
       "      <th>user_id</th>\n",
       "      <th></th>\n",
       "      <th></th>\n",
       "      <th></th>\n",
       "      <th></th>\n",
       "    </tr>\n",
       "  </thead>\n",
       "  <tbody>\n",
       "    <tr>\n",
       "      <th>JJ-aSuM4pCFPdkfoZ34q0Q</th>\n",
       "      <td>10</td>\n",
       "      <td>2013-09-24</td>\n",
       "      <td>0njfJmB-7n84DlIgUByCNw, rFn3Xe3RqHxRSxWOU19Gpg...</td>\n",
       "      <td>3.70</td>\n",
       "    </tr>\n",
       "    <tr>\n",
       "      <th>uUzsFQn_6cXDh6rPNGbIFA</th>\n",
       "      <td>1</td>\n",
       "      <td>2017-03-02</td>\n",
       "      <td>None</td>\n",
       "      <td>2.00</td>\n",
       "    </tr>\n",
       "    <tr>\n",
       "      <th>mBneaEEH5EMyxaVyqS-72A</th>\n",
       "      <td>6</td>\n",
       "      <td>2015-03-13</td>\n",
       "      <td>None</td>\n",
       "      <td>4.67</td>\n",
       "    </tr>\n",
       "    <tr>\n",
       "      <th>W5mJGs-dcDWRGEhAzUYtoA</th>\n",
       "      <td>3</td>\n",
       "      <td>2016-09-08</td>\n",
       "      <td>None</td>\n",
       "      <td>4.67</td>\n",
       "    </tr>\n",
       "    <tr>\n",
       "      <th>4E8--zUZO1Rr1IBK4_83fg</th>\n",
       "      <td>11</td>\n",
       "      <td>2012-07-16</td>\n",
       "      <td>None</td>\n",
       "      <td>3.45</td>\n",
       "    </tr>\n",
       "    <tr>\n",
       "      <th>...</th>\n",
       "      <td>...</td>\n",
       "      <td>...</td>\n",
       "      <td>...</td>\n",
       "      <td>...</td>\n",
       "    </tr>\n",
       "    <tr>\n",
       "      <th>LODBIwiAcKxRi7Wz-sFsKw</th>\n",
       "      <td>1</td>\n",
       "      <td>2015-02-21</td>\n",
       "      <td>None</td>\n",
       "      <td>5.00</td>\n",
       "    </tr>\n",
       "    <tr>\n",
       "      <th>JpY2ozlb30z_AZCq2YX34g</th>\n",
       "      <td>1</td>\n",
       "      <td>2014-08-01</td>\n",
       "      <td>None</td>\n",
       "      <td>5.00</td>\n",
       "    </tr>\n",
       "    <tr>\n",
       "      <th>AU9aZSA1rAjNE5cFcZTVMA</th>\n",
       "      <td>12</td>\n",
       "      <td>2015-11-11</td>\n",
       "      <td>None</td>\n",
       "      <td>1.85</td>\n",
       "    </tr>\n",
       "    <tr>\n",
       "      <th>s1BZ7-rpqb3xRKcxvArXsQ</th>\n",
       "      <td>33</td>\n",
       "      <td>2014-06-28</td>\n",
       "      <td>None</td>\n",
       "      <td>3.97</td>\n",
       "    </tr>\n",
       "    <tr>\n",
       "      <th>q-1Tz4SvaTpGEMhI_xwm0Q</th>\n",
       "      <td>5</td>\n",
       "      <td>2010-05-17</td>\n",
       "      <td>None</td>\n",
       "      <td>3.50</td>\n",
       "    </tr>\n",
       "  </tbody>\n",
       "</table>\n",
       "<p>1326100 rows × 4 columns</p>\n",
       "</div>"
      ],
      "text/plain": [
       "                        review_count yelping_since  \\\n",
       "user_id                                              \n",
       "JJ-aSuM4pCFPdkfoZ34q0Q            10    2013-09-24   \n",
       "uUzsFQn_6cXDh6rPNGbIFA             1    2017-03-02   \n",
       "mBneaEEH5EMyxaVyqS-72A             6    2015-03-13   \n",
       "W5mJGs-dcDWRGEhAzUYtoA             3    2016-09-08   \n",
       "4E8--zUZO1Rr1IBK4_83fg            11    2012-07-16   \n",
       "...                              ...           ...   \n",
       "LODBIwiAcKxRi7Wz-sFsKw             1    2015-02-21   \n",
       "JpY2ozlb30z_AZCq2YX34g             1    2014-08-01   \n",
       "AU9aZSA1rAjNE5cFcZTVMA            12    2015-11-11   \n",
       "s1BZ7-rpqb3xRKcxvArXsQ            33    2014-06-28   \n",
       "q-1Tz4SvaTpGEMhI_xwm0Q             5    2010-05-17   \n",
       "\n",
       "                                                                  friends  \\\n",
       "user_id                                                                     \n",
       "JJ-aSuM4pCFPdkfoZ34q0Q  0njfJmB-7n84DlIgUByCNw, rFn3Xe3RqHxRSxWOU19Gpg...   \n",
       "uUzsFQn_6cXDh6rPNGbIFA                                               None   \n",
       "mBneaEEH5EMyxaVyqS-72A                                               None   \n",
       "W5mJGs-dcDWRGEhAzUYtoA                                               None   \n",
       "4E8--zUZO1Rr1IBK4_83fg                                               None   \n",
       "...                                                                   ...   \n",
       "LODBIwiAcKxRi7Wz-sFsKw                                               None   \n",
       "JpY2ozlb30z_AZCq2YX34g                                               None   \n",
       "AU9aZSA1rAjNE5cFcZTVMA                                               None   \n",
       "s1BZ7-rpqb3xRKcxvArXsQ                                               None   \n",
       "q-1Tz4SvaTpGEMhI_xwm0Q                                               None   \n",
       "\n",
       "                        average_stars  \n",
       "user_id                                \n",
       "JJ-aSuM4pCFPdkfoZ34q0Q           3.70  \n",
       "uUzsFQn_6cXDh6rPNGbIFA           2.00  \n",
       "mBneaEEH5EMyxaVyqS-72A           4.67  \n",
       "W5mJGs-dcDWRGEhAzUYtoA           4.67  \n",
       "4E8--zUZO1Rr1IBK4_83fg           3.45  \n",
       "...                               ...  \n",
       "LODBIwiAcKxRi7Wz-sFsKw           5.00  \n",
       "JpY2ozlb30z_AZCq2YX34g           5.00  \n",
       "AU9aZSA1rAjNE5cFcZTVMA           1.85  \n",
       "s1BZ7-rpqb3xRKcxvArXsQ           3.97  \n",
       "q-1Tz4SvaTpGEMhI_xwm0Q           3.50  \n",
       "\n",
       "[1326100 rows x 4 columns]"
      ]
     },
     "execution_count": 14,
     "metadata": {},
     "output_type": "execute_result"
    }
   ],
   "source": [
    "user = data_user[col_index_user]\n",
    "user"
   ]
  },
  {
   "cell_type": "markdown",
   "metadata": {},
   "source": [
    "## review数据处理"
   ]
  },
  {
   "cell_type": "code",
   "execution_count": 26,
   "metadata": {
    "collapsed": true
   },
   "outputs": [],
   "source": [
    "data_review = pd.read_csv(file_yelp_review,encoding = 'latin-1',usecols = ['review_id', 'user_id', 'business_id', 'stars', 'date'])"
   ]
  },
  {
   "cell_type": "code",
   "execution_count": 27,
   "metadata": {},
   "outputs": [
    {
     "data": {
      "text/plain": [
       "Index(['review_id', 'user_id', 'business_id', 'stars', 'date'], dtype='object')"
      ]
     },
     "execution_count": 27,
     "metadata": {},
     "output_type": "execute_result"
    }
   ],
   "source": [
    "data_review.columns"
   ]
  },
  {
   "cell_type": "code",
   "execution_count": 28,
   "metadata": {},
   "outputs": [
    {
     "data": {
      "text/plain": [
       "RangeIndex(start=0, stop=5261668, step=1)"
      ]
     },
     "execution_count": 28,
     "metadata": {},
     "output_type": "execute_result"
    }
   ],
   "source": [
    "data_review.index"
   ]
  },
  {
   "cell_type": "code",
   "execution_count": 33,
   "metadata": {},
   "outputs": [
    {
     "data": {
      "text/html": [
       "<div>\n",
       "<style>\n",
       "    .dataframe thead tr:only-child th {\n",
       "        text-align: right;\n",
       "    }\n",
       "\n",
       "    .dataframe thead th {\n",
       "        text-align: left;\n",
       "    }\n",
       "\n",
       "    .dataframe tbody tr th {\n",
       "        vertical-align: top;\n",
       "    }\n",
       "</style>\n",
       "<table border=\"1\" class=\"dataframe\">\n",
       "  <thead>\n",
       "    <tr style=\"text-align: right;\">\n",
       "      <th></th>\n",
       "      <th>user_id</th>\n",
       "      <th>business_id</th>\n",
       "      <th>date</th>\n",
       "      <th>stars</th>\n",
       "    </tr>\n",
       "  </thead>\n",
       "  <tbody>\n",
       "    <tr>\n",
       "      <th>0</th>\n",
       "      <td>bv2nCi5Qv5vroFiqKGopiw</td>\n",
       "      <td>AEx2SYEUJmTxVVB18LlCwA</td>\n",
       "      <td>2016-05-28</td>\n",
       "      <td>5</td>\n",
       "    </tr>\n",
       "    <tr>\n",
       "      <th>1</th>\n",
       "      <td>bv2nCi5Qv5vroFiqKGopiw</td>\n",
       "      <td>VR6GpWIda3SfvPC-lg9H3w</td>\n",
       "      <td>2016-05-28</td>\n",
       "      <td>5</td>\n",
       "    </tr>\n",
       "    <tr>\n",
       "      <th>2</th>\n",
       "      <td>bv2nCi5Qv5vroFiqKGopiw</td>\n",
       "      <td>CKC0-MOWMqoeWf6s-szl8g</td>\n",
       "      <td>2016-05-28</td>\n",
       "      <td>5</td>\n",
       "    </tr>\n",
       "    <tr>\n",
       "      <th>3</th>\n",
       "      <td>bv2nCi5Qv5vroFiqKGopiw</td>\n",
       "      <td>ACFtxLv8pGrrxMm6EgjreA</td>\n",
       "      <td>2016-05-28</td>\n",
       "      <td>4</td>\n",
       "    </tr>\n",
       "    <tr>\n",
       "      <th>4</th>\n",
       "      <td>bv2nCi5Qv5vroFiqKGopiw</td>\n",
       "      <td>s2I_Ni76bjJNK9yG60iD-Q</td>\n",
       "      <td>2016-05-28</td>\n",
       "      <td>4</td>\n",
       "    </tr>\n",
       "    <tr>\n",
       "      <th>...</th>\n",
       "      <td>...</td>\n",
       "      <td>...</td>\n",
       "      <td>...</td>\n",
       "      <td>...</td>\n",
       "    </tr>\n",
       "    <tr>\n",
       "      <th>5261663</th>\n",
       "      <td>mPjPyipaD0C_myqWqDipZg</td>\n",
       "      <td>Ngk84Ax1tXgpoJFEGxot3w</td>\n",
       "      <td>2011-11-21</td>\n",
       "      <td>1</td>\n",
       "    </tr>\n",
       "    <tr>\n",
       "      <th>5261664</th>\n",
       "      <td>mPjPyipaD0C_myqWqDipZg</td>\n",
       "      <td>pOEL97ld-FJMKO8Ki8JmYg</td>\n",
       "      <td>2016-04-30</td>\n",
       "      <td>3</td>\n",
       "    </tr>\n",
       "    <tr>\n",
       "      <th>5261665</th>\n",
       "      <td>mPjPyipaD0C_myqWqDipZg</td>\n",
       "      <td>5ubokMNw8qfbX2WtxgJG1Q</td>\n",
       "      <td>2011-10-23</td>\n",
       "      <td>4</td>\n",
       "    </tr>\n",
       "    <tr>\n",
       "      <th>5261666</th>\n",
       "      <td>mPjPyipaD0C_myqWqDipZg</td>\n",
       "      <td>EO3i5kTUG7_S2OIQ23sdSA</td>\n",
       "      <td>2011-11-07</td>\n",
       "      <td>3</td>\n",
       "    </tr>\n",
       "    <tr>\n",
       "      <th>5261667</th>\n",
       "      <td>mPjPyipaD0C_myqWqDipZg</td>\n",
       "      <td>HloEEXm_QzEpycuwA_RtQA</td>\n",
       "      <td>2011-11-15</td>\n",
       "      <td>3</td>\n",
       "    </tr>\n",
       "  </tbody>\n",
       "</table>\n",
       "<p>5261668 rows × 4 columns</p>\n",
       "</div>"
      ],
      "text/plain": [
       "                        user_id             business_id        date  stars\n",
       "0        bv2nCi5Qv5vroFiqKGopiw  AEx2SYEUJmTxVVB18LlCwA  2016-05-28      5\n",
       "1        bv2nCi5Qv5vroFiqKGopiw  VR6GpWIda3SfvPC-lg9H3w  2016-05-28      5\n",
       "2        bv2nCi5Qv5vroFiqKGopiw  CKC0-MOWMqoeWf6s-szl8g  2016-05-28      5\n",
       "3        bv2nCi5Qv5vroFiqKGopiw  ACFtxLv8pGrrxMm6EgjreA  2016-05-28      4\n",
       "4        bv2nCi5Qv5vroFiqKGopiw  s2I_Ni76bjJNK9yG60iD-Q  2016-05-28      4\n",
       "...                         ...                     ...         ...    ...\n",
       "5261663  mPjPyipaD0C_myqWqDipZg  Ngk84Ax1tXgpoJFEGxot3w  2011-11-21      1\n",
       "5261664  mPjPyipaD0C_myqWqDipZg  pOEL97ld-FJMKO8Ki8JmYg  2016-04-30      3\n",
       "5261665  mPjPyipaD0C_myqWqDipZg  5ubokMNw8qfbX2WtxgJG1Q  2011-10-23      4\n",
       "5261666  mPjPyipaD0C_myqWqDipZg  EO3i5kTUG7_S2OIQ23sdSA  2011-11-07      3\n",
       "5261667  mPjPyipaD0C_myqWqDipZg  HloEEXm_QzEpycuwA_RtQA  2011-11-15      3\n",
       "\n",
       "[5261668 rows x 4 columns]"
      ]
     },
     "execution_count": 33,
     "metadata": {},
     "output_type": "execute_result"
    }
   ],
   "source": [
    "check_ins = data_review[['user_id','business_id','date','stars' ]]\n",
    "check_ins"
   ]
  },
  {
   "cell_type": "markdown",
   "metadata": {},
   "source": [
    "## tip数据处理"
   ]
  },
  {
   "cell_type": "code",
   "execution_count": 34,
   "metadata": {
    "collapsed": true
   },
   "outputs": [],
   "source": [
    "data_tip = pd.read_csv(file_yelp_tip, encoding = 'latin-1')"
   ]
  },
  {
   "cell_type": "code",
   "execution_count": 35,
   "metadata": {},
   "outputs": [
    {
     "data": {
      "text/plain": [
       "Index(['text', 'date', 'likes', 'business_id', 'user_id'], dtype='object')"
      ]
     },
     "execution_count": 35,
     "metadata": {},
     "output_type": "execute_result"
    }
   ],
   "source": [
    "data_tip.columns"
   ]
  },
  {
   "cell_type": "code",
   "execution_count": 36,
   "metadata": {},
   "outputs": [
    {
     "data": {
      "text/plain": [
       "RangeIndex(start=0, stop=1098324, step=1)"
      ]
     },
     "execution_count": 36,
     "metadata": {},
     "output_type": "execute_result"
    }
   ],
   "source": [
    "data_tip.index"
   ]
  },
  {
   "cell_type": "code",
   "execution_count": 37,
   "metadata": {},
   "outputs": [
    {
     "data": {
      "text/html": [
       "<div>\n",
       "<style>\n",
       "    .dataframe thead tr:only-child th {\n",
       "        text-align: right;\n",
       "    }\n",
       "\n",
       "    .dataframe thead th {\n",
       "        text-align: left;\n",
       "    }\n",
       "\n",
       "    .dataframe tbody tr th {\n",
       "        vertical-align: top;\n",
       "    }\n",
       "</style>\n",
       "<table border=\"1\" class=\"dataframe\">\n",
       "  <thead>\n",
       "    <tr style=\"text-align: right;\">\n",
       "      <th></th>\n",
       "      <th>user_id</th>\n",
       "      <th>business_id</th>\n",
       "      <th>date</th>\n",
       "      <th>text</th>\n",
       "    </tr>\n",
       "  </thead>\n",
       "  <tbody>\n",
       "    <tr>\n",
       "      <th>0</th>\n",
       "      <td>ZcLKXikTHYOnYt5VYRO5sg</td>\n",
       "      <td>jH19V2I9fIslnNhDzPmdkA</td>\n",
       "      <td>2015-08-12</td>\n",
       "      <td>Great breakfast large portions and friendly wa...</td>\n",
       "    </tr>\n",
       "    <tr>\n",
       "      <th>1</th>\n",
       "      <td>oaYhjqBbh18ZhU0bpyzSuw</td>\n",
       "      <td>dAa0hB2yrnHzVmsCkN4YvQ</td>\n",
       "      <td>2014-06-20</td>\n",
       "      <td>Nice place. Great staff.  A fixture in the tow...</td>\n",
       "    </tr>\n",
       "    <tr>\n",
       "      <th>2</th>\n",
       "      <td>ulQ8Nyj7jCUR8M83SUMoRQ</td>\n",
       "      <td>dAa0hB2yrnHzVmsCkN4YvQ</td>\n",
       "      <td>2016-10-12</td>\n",
       "      <td>Happy hour 5-7 Monday - Friday</td>\n",
       "    </tr>\n",
       "    <tr>\n",
       "      <th>3</th>\n",
       "      <td>ulQ8Nyj7jCUR8M83SUMoRQ</td>\n",
       "      <td>ESzO3Av0b1_TzKOiqzbQYQ</td>\n",
       "      <td>2017-01-28</td>\n",
       "      <td>Parking is a premium, keep circling, you will ...</td>\n",
       "    </tr>\n",
       "    <tr>\n",
       "      <th>4</th>\n",
       "      <td>ulQ8Nyj7jCUR8M83SUMoRQ</td>\n",
       "      <td>k7WRPbDd7rztjHcGGkEjlw</td>\n",
       "      <td>2017-02-25</td>\n",
       "      <td>Homemade pasta is the best in the area</td>\n",
       "    </tr>\n",
       "    <tr>\n",
       "      <th>...</th>\n",
       "      <td>...</td>\n",
       "      <td>...</td>\n",
       "      <td>...</td>\n",
       "      <td>...</td>\n",
       "    </tr>\n",
       "    <tr>\n",
       "      <th>1098319</th>\n",
       "      <td>A9WQWLL7mN6cwOklTcbppg</td>\n",
       "      <td>AR0b2PPSBfl8SRUGx-QCmA</td>\n",
       "      <td>2017-12-03</td>\n",
       "      <td>Awesome food great live entertainment</td>\n",
       "    </tr>\n",
       "    <tr>\n",
       "      <th>1098320</th>\n",
       "      <td>FcWOFsW8dvG5BHTB_ZPyhg</td>\n",
       "      <td>Cs8YvyehNELsgOsf5Us4Dg</td>\n",
       "      <td>2017-12-04</td>\n",
       "      <td>Amazing! Great food and prices. Upgrade to the...</td>\n",
       "    </tr>\n",
       "    <tr>\n",
       "      <th>1098321</th>\n",
       "      <td>bQxvo4r6y6HImAJZShR3Eg</td>\n",
       "      <td>RWwcoU716D8j519RL7paVA</td>\n",
       "      <td>2017-12-05</td>\n",
       "      <td>Great new place. Staff was very friendly and h...</td>\n",
       "    </tr>\n",
       "    <tr>\n",
       "      <th>1098322</th>\n",
       "      <td>kA6L6nrjJnu1bfkLGN8l9Q</td>\n",
       "      <td>ZqTXN4qh0Ta1Lp8Z3v-dKg</td>\n",
       "      <td>2017-12-08</td>\n",
       "      <td>We waited 1.5 hour for the food, asked multipl...</td>\n",
       "    </tr>\n",
       "    <tr>\n",
       "      <th>1098323</th>\n",
       "      <td>eqtEDyqn1kCXwlo2OKdW_Q</td>\n",
       "      <td>aY0ZSpAK7h7-SmP6KVS8oA</td>\n",
       "      <td>2017-12-07</td>\n",
       "      <td>Beautiful location, beautiful event, beautiful...</td>\n",
       "    </tr>\n",
       "  </tbody>\n",
       "</table>\n",
       "<p>1098324 rows × 4 columns</p>\n",
       "</div>"
      ],
      "text/plain": [
       "                        user_id             business_id        date  \\\n",
       "0        ZcLKXikTHYOnYt5VYRO5sg  jH19V2I9fIslnNhDzPmdkA  2015-08-12   \n",
       "1        oaYhjqBbh18ZhU0bpyzSuw  dAa0hB2yrnHzVmsCkN4YvQ  2014-06-20   \n",
       "2        ulQ8Nyj7jCUR8M83SUMoRQ  dAa0hB2yrnHzVmsCkN4YvQ  2016-10-12   \n",
       "3        ulQ8Nyj7jCUR8M83SUMoRQ  ESzO3Av0b1_TzKOiqzbQYQ  2017-01-28   \n",
       "4        ulQ8Nyj7jCUR8M83SUMoRQ  k7WRPbDd7rztjHcGGkEjlw  2017-02-25   \n",
       "...                         ...                     ...         ...   \n",
       "1098319  A9WQWLL7mN6cwOklTcbppg  AR0b2PPSBfl8SRUGx-QCmA  2017-12-03   \n",
       "1098320  FcWOFsW8dvG5BHTB_ZPyhg  Cs8YvyehNELsgOsf5Us4Dg  2017-12-04   \n",
       "1098321  bQxvo4r6y6HImAJZShR3Eg  RWwcoU716D8j519RL7paVA  2017-12-05   \n",
       "1098322  kA6L6nrjJnu1bfkLGN8l9Q  ZqTXN4qh0Ta1Lp8Z3v-dKg  2017-12-08   \n",
       "1098323  eqtEDyqn1kCXwlo2OKdW_Q  aY0ZSpAK7h7-SmP6KVS8oA  2017-12-07   \n",
       "\n",
       "                                                      text  \n",
       "0        Great breakfast large portions and friendly wa...  \n",
       "1        Nice place. Great staff.  A fixture in the tow...  \n",
       "2                           Happy hour 5-7 Monday - Friday  \n",
       "3        Parking is a premium, keep circling, you will ...  \n",
       "4                   Homemade pasta is the best in the area  \n",
       "...                                                    ...  \n",
       "1098319              Awesome food great live entertainment  \n",
       "1098320  Amazing! Great food and prices. Upgrade to the...  \n",
       "1098321  Great new place. Staff was very friendly and h...  \n",
       "1098322  We waited 1.5 hour for the food, asked multipl...  \n",
       "1098323  Beautiful location, beautiful event, beautiful...  \n",
       "\n",
       "[1098324 rows x 4 columns]"
      ]
     },
     "execution_count": 37,
     "metadata": {},
     "output_type": "execute_result"
    }
   ],
   "source": [
    "tip = data_tip[[ 'user_id','business_id','date','text']]\n",
    "tip"
   ]
  },
  {
   "cell_type": "code",
   "execution_count": 38,
   "metadata": {},
   "outputs": [
    {
     "data": {
      "text/plain": [
       "\"Come early on Sunday's to avoid the rush\""
      ]
     },
     "execution_count": 38,
     "metadata": {},
     "output_type": "execute_result"
    }
   ],
   "source": [
    "tip['text'][6]"
   ]
  },
  {
   "cell_type": "code",
   "execution_count": null,
   "metadata": {
    "collapsed": true
   },
   "outputs": [],
   "source": []
  }
 ],
 "metadata": {
  "kernelspec": {
   "display_name": "Python 3",
   "language": "python",
   "name": "python3"
  },
  "language_info": {
   "codemirror_mode": {
    "name": "ipython",
    "version": 3
   },
   "file_extension": ".py",
   "mimetype": "text/x-python",
   "name": "python",
   "nbconvert_exporter": "python",
   "pygments_lexer": "ipython3",
   "version": "3.6.3"
  }
 },
 "nbformat": 4,
 "nbformat_minor": 2
}
